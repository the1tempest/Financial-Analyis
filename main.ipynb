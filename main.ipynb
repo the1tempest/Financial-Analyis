{
 "cells": [
  {
   "cell_type": "code",
   "execution_count": 1,
   "id": "769bdd67-2b49-4550-955b-936646644bc2",
   "metadata": {},
   "outputs": [],
   "source": [
    "import csv\n",
    "from pathlib import Path"
   ]
  },
  {
   "cell_type": "code",
   "execution_count": 2,
   "id": "9475d88b-dd7e-4ab1-8802-450fbce0f852",
   "metadata": {},
   "outputs": [],
   "source": [
    "loading_file_path = Path(\"budget_data.csv\")\n",
    "file_to_output = Path(\"budget_analysis.txt\")"
   ]
  },
  {
   "cell_type": "code",
   "execution_count": 3,
   "id": "7e51a747-dc16-4312-b30e-a3797d74b143",
   "metadata": {},
   "outputs": [],
   "source": [
    "total_months = 0\n",
    "total_net = 0\n",
    "average_change = 0\n",
    "greatest_increase = [\"\", 0]\n",
    "greatest_decrease = [\"\", 9999999999999]\n",
    "records = []\n",
    "net_change_list = []\n",
    "month_of_change = []"
   ]
  },
  {
   "cell_type": "code",
   "execution_count": 4,
   "id": "150c158d-fd1d-4cdf-a2bd-b92d2043b625",
   "metadata": {},
   "outputs": [],
   "source": [
    "with open(loading_file_path, \"r\") as fin_csv_data:\n",
    "    reader = csv.reader(fin_csv_data)\n",
    "    \n",
    "    header = next(reader)\n",
    "    \n",
    "        \n",
    "    first_row = next(reader)\n",
    "    total_months = total_months + 1\n",
    "    total_net = total_net + int(first_row[1])\n",
    "    prev_net = int(first_row[1])\n",
    "    \n",
    "    for row in reader:\n",
    "        total_months = total_months + 1\n",
    "        total_net = total_net + int(row[1])\n",
    "        \n",
    "        net_change = int(row[1]) - prev_net\n",
    "        prev_net = int(row[1])\n",
    "        net_change_list = net_change_list + [net_change]\n",
    "        month_of_change = month_of_change + [row[0]]\n",
    "        \n",
    "        if net_change > greatest_increase[1]:\n",
    "            greatest_increase[0] = row[0]\n",
    "            greatest_increase[1] = net_change\n",
    "            \n",
    "        if net_change < greatest_decrease[1]:\n",
    "            greatest_decrease[0] = row[0]\n",
    "            greatest_decrease[1] = net_change"
   ]
  },
  {
   "cell_type": "code",
   "execution_count": 5,
   "id": "3f977422-41e4-468f-87a3-77bd86adbedb",
   "metadata": {},
   "outputs": [],
   "source": [
    "average_change = round(sum(net_change_list) / len(net_change_list), 2)"
   ]
  },
  {
   "cell_type": "code",
   "execution_count": 6,
   "id": "84a61cf8-77b9-4c78-ae73-6ac3ddef4caa",
   "metadata": {},
   "outputs": [
    {
     "name": "stdout",
     "output_type": "stream",
     "text": [
      "Financial Analysis\n",
      "------------------------\n",
      "Total Months: 86\n",
      "\n",
      "Total: 38382578\n",
      "\n",
      "Average Change: -2315.12\n",
      "\n",
      "Greatest Increase in Profits: Feb-2012 ($1926159)\n",
      "\n",
      "Greatest Decrease in Proftis: Sep-2013 ($-2196167)\n",
      "\n"
     ]
    }
   ],
   "source": [
    "print(f\"Financial Analysis\")\n",
    "print(f\"------------------------\")\n",
    "print(f\"Total Months: {total_months}\\n\")\n",
    "print(f\"Total: {total_net}\\n\")\n",
    "print(f\"Average Change: {average_change}\\n\")\n",
    "print(f\"Greatest Increase in Profits: {greatest_increase[0]} (${greatest_increase[1]})\\n\")\n",
    "print(f\"Greatest Decrease in Proftis: {greatest_decrease[0]} (${greatest_decrease[1]})\\n\")"
   ]
  },
  {
   "cell_type": "code",
   "execution_count": 7,
   "id": "37f9907d-91b6-4ac3-9ebb-119f09185e90",
   "metadata": {},
   "outputs": [],
   "source": [
    "with open(file_to_output, \"w\") as txt_file:\n",
    "    txt_file.write(f\"Financial Analysis\\n\")\n",
    "    txt_file.write(f\"------------------------\\n\")\n",
    "    txt_file.write(f\"Total Months: {total_months}\\n\")\n",
    "    txt_file.write(f\"Total: {total_net}\\n\")\n",
    "    txt_file.write(f\"Average Change: {average_change}\\n\")\n",
    "    txt_file.write(f\"Greatest Increase in Profits: {greatest_increase[0]} (${greatest_increase[1]})\\n\")\n",
    "    txt_file.write(f\"Greatest Decrease in Proftis: {greatest_decrease[0]} (${greatest_decrease[1]})\\n\")"
   ]
  },
  {
   "cell_type": "code",
   "execution_count": null,
   "id": "7cc3c127-48b8-410f-8c4f-4b6d513c1f0a",
   "metadata": {},
   "outputs": [],
   "source": []
  }
 ],
 "metadata": {
  "kernelspec": {
   "display_name": "Python 3 (ipykernel)",
   "language": "python",
   "name": "python3"
  },
  "language_info": {
   "codemirror_mode": {
    "name": "ipython",
    "version": 3
   },
   "file_extension": ".py",
   "mimetype": "text/x-python",
   "name": "python",
   "nbconvert_exporter": "python",
   "pygments_lexer": "ipython3",
   "version": "3.8.8"
  }
 },
 "nbformat": 4,
 "nbformat_minor": 5
}
